{
 "cells": [
  {
   "cell_type": "code",
   "execution_count": 1,
   "id": "subsequent-building",
   "metadata": {},
   "outputs": [],
   "source": [
    "import solve_mis\n",
    "import scipy\n",
    "import networkx as nx\n",
    "import numpy as np\n",
    "import qiskit as qk\n",
    "from qiskit.circuit import ControlledGate\n",
    "from qiskit.circuit.library.standard_gates import XGate\n",
    "from qiskit.transpiler.passes import Unroller\n",
    "from qiskit.transpiler import PassManager\n",
    "\n",
    "from networkx.generators.ego import ego_graph\n",
    "\n",
    "from utils.graph_funcs import *\n",
    "from utils.helper_funcs import *"
   ]
  },
  {
   "cell_type": "code",
   "execution_count": 2,
   "id": "monthly-anxiety",
   "metadata": {},
   "outputs": [],
   "source": [
    "simulator = qk.Aer.get_backend('aer_simulator_statevector')"
   ]
  },
  {
   "cell_type": "code",
   "execution_count": 3,
   "id": "blessed-anatomy",
   "metadata": {},
   "outputs": [
    {
     "data": {
      "text/html": [
       "<pre style=\"word-wrap: normal;white-space: pre;background: #fff0;line-height: 1.1;font-family: &quot;Courier New&quot;,Courier,monospace\">       ┌───┐ ░ \n",
       "  q_0: ┤ H ├─░─\n",
       "       ├───┤ ░ \n",
       "  q_1: ┤ H ├─░─\n",
       "       └───┘ ░ \n",
       "anc_0: ──────░─\n",
       "             ░ </pre>"
      ],
      "text/plain": [
       "       ┌───┐ ░ \n",
       "  q_0: ┤ H ├─░─\n",
       "       ├───┤ ░ \n",
       "  q_1: ┤ H ├─░─\n",
       "       └───┘ ░ \n",
       "anc_0: ──────░─\n",
       "             ░ "
      ]
     },
     "execution_count": 3,
     "metadata": {},
     "output_type": "execute_result"
    }
   ],
   "source": [
    "circ = qk.QuantumCircuit(2)\n",
    "circ.h(circ.qubits)\n",
    "circ.add_register(qk.AncillaRegister(1, 'anc'))\n",
    "circ.save_statevector()\n",
    "circ.draw()"
   ]
  },
  {
   "cell_type": "code",
   "execution_count": 4,
   "id": "funky-hospital",
   "metadata": {},
   "outputs": [
    {
     "data": {
      "text/plain": [
       "{'000': 0.25, '001': 0.25, '010': 0.25, '011': 0.25}"
      ]
     },
     "execution_count": 4,
     "metadata": {},
     "output_type": "execute_result"
    }
   ],
   "source": [
    "res = simulator.run(circ, shots=1000).result()\n",
    "res.get_counts()"
   ]
  },
  {
   "cell_type": "code",
   "execution_count": 13,
   "id": "present-injury",
   "metadata": {},
   "outputs": [
    {
     "name": "stdout",
     "output_type": "stream",
     "text": [
      "Optimal: ('01000011101101100110', 10)\n"
     ]
    },
    {
     "data": {
      "image/png": "[encoded data removed]",
      "text/plain": [
       "<Figure size 432x288 with 1 Axes>"
      ]
     },
     "metadata": {},
     "output_type": "display_data"
    }
   ],
   "source": [
    "N = 20\n",
    "connected = False\n",
    "while not connected:\n",
    "    G = nx.erdos_renyi_graph(N, 0.1)\n",
    "    connected = nx.is_connected(G)\n",
    "opt = brute_force_search(G)\n",
    "print('Optimal:', opt)\n",
    "nx.draw_spring(G, with_labels=True, node_color='gold')"
   ]
  },
  {
   "cell_type": "code",
   "execution_count": 14,
   "id": "uniform-avenue",
   "metadata": {},
   "outputs": [
    {
     "name": "stdout",
     "output_type": "stream",
     "text": [
      "---------- Iteration: 1 ----------\n",
      "Stopping condition: [0, 0, 0, 0, 0, 0, 0, 0, 0, 0, 0, 0, 0, 0, 0, 0, 0, 0, 0, 0]\n",
      "Selected node: 5\n",
      "Current mis state: 00000000000000000000\n",
      "\tCurrent Hot Nodes: [19, 5, 10]\n",
      "\tNum qubits = 8, Num params = 4\n",
      "\tqubits_to_nodes: {0: 0, 1: 5, 2: 8, 3: 10, 4: 14, 5: 16, 6: 18, 7: 19}\n",
      "\tnodes_to_qubits: {0: 0, 5: 1, 8: 2, 10: 3, 14: 4, 16: 5, 18: 6, 19: 7}\n",
      "\tOptimal cost: -2.0\n",
      "\tOptimal hot nodes: [19, 10, 5]\n",
      "\tMost probable bitstring: 10001000\n",
      "\tPrevious mis: 00000000000000000000\n",
      "\tUpdated mis:  00000000001000000001\n",
      "\n",
      "---------- Iteration: 2 ----------\n",
      "Stopping condition: [1, 0, 0, 0, 0, 1, 0, 0, 1, 0, 1, 0, 0, 0, 1, 0, 1, 0, 1, 1]\n",
      "Selected node: 4\n",
      "Current mis state: 00000000001000000001\n",
      "\tCurrent Hot Nodes: [4, 2, 12, 15]\n",
      "\tNum qubits = 9, Num params = 5\n",
      "\tqubits_to_nodes: {0: 0, 1: 2, 2: 3, 3: 4, 4: 8, 5: 10, 6: 12, 7: 14, 8: 15}\n",
      "\tnodes_to_qubits: {0: 0, 2: 1, 3: 2, 4: 3, 8: 4, 10: 5, 12: 6, 14: 7, 15: 8}\n",
      "\tOptimal cost: -3.00001\n",
      "\tOptimal hot nodes: [4, 2, 12, 15]\n",
      "\tMost probable bitstring: 001100010\n",
      "\tPrevious mis: 00000000001000000001\n",
      "\tUpdated mis:  00100000001010000001\n",
      "\n",
      "---------- Iteration: 3 ----------\n",
      "Stopping condition: [1, 0, 1, 1, 1, 1, 0, 0, 1, 0, 1, 0, 1, 0, 1, 1, 1, 0, 1, 1]\n",
      "Selected node: 7\n",
      "Current mis state: 00100000001010000001\n",
      "\tCurrent Hot Nodes: [11, 7, 13]\n",
      "\tNum qubits = 4, Num params = 4\n",
      "\tqubits_to_nodes: {0: 0, 1: 11, 2: 13, 3: 7}\n",
      "\tnodes_to_qubits: {0: 0, 11: 1, 13: 2, 7: 3}\n",
      "\tOptimal cost: -2.0\n",
      "\tOptimal hot nodes: [11, 7, 13]\n",
      "\tMost probable bitstring: 0110\n",
      "\tPrevious mis: 00100000001010000001\n",
      "\tUpdated mis:  00100000001111000001\n",
      "\n",
      "---------- Iteration: 4 ----------\n",
      "Stopping condition: [1, 0, 1, 1, 1, 1, 0, 1, 1, 0, 1, 1, 1, 1, 1, 1, 1, 0, 1, 1]\n",
      "Selected node: 17\n",
      "Current mis state: 00100000001111000001\n",
      "\tCurrent Hot Nodes: [17, 6]\n",
      "\tNum qubits = 5, Num params = 3\n",
      "\tqubits_to_nodes: {0: 0, 1: 6, 2: 10, 3: 16, 4: 17}\n",
      "\tnodes_to_qubits: {0: 0, 6: 1, 10: 2, 16: 3, 17: 4}\n",
      "\tOptimal cost: -2.00001\n",
      "\tOptimal hot nodes: [17, 6]\n",
      "\tMost probable bitstring: 10100\n",
      "\tPrevious mis: 00100000001111000001\n",
      "\tUpdated mis:  00100000001111000101\n",
      "\n",
      "---------- Iteration: 5 ----------\n",
      "Stopping condition: [1, 0, 1, 1, 1, 1, 1, 1, 1, 0, 1, 1, 1, 1, 1, 1, 1, 1, 1, 1]\n",
      "Selected node: 9\n",
      "Current mis state: 00100000001111000101\n",
      "\tCurrent Hot Nodes: [9, 1]\n",
      "\tNum qubits = 9, Num params = 3\n",
      "\tqubits_to_nodes: {0: 0, 1: 1, 2: 2, 3: 3, 4: 6, 5: 9, 6: 10, 7: 13, 8: 14}\n",
      "\tnodes_to_qubits: {0: 0, 1: 1, 2: 2, 3: 3, 6: 4, 9: 5, 10: 6, 13: 7, 14: 8}\n",
      "\tOptimal cost: -5.00003\n",
      "\tOptimal hot nodes: [1, 9]\n",
      "\tMost probable bitstring: 011100110\n",
      "\tPrevious mis: 00100000001111000101\n",
      "\tUpdated mis:  01100000011111000101\n",
      "\n",
      "Solution: 01100000011111000101, Hamming weight = 9, Approximation Ratio = 0.9, Is a valid IS: True\n"
     ]
    }
   ],
   "source": [
    "init_state = '0'*N\n",
    "num_partial_mixers = 5\n",
    "max_node_dist = 2\n",
    "mis_soln, history = solve_mis.quantum_local_search(init_state, G, num_partial_mixers, max_node_dist, verbose=1)\n",
    "print('Solution: {}, Hamming weight = {}, Approximation Ratio = {}, Is a valid IS: {}'.format(\n",
    "    mis_soln, hamming_weight(mis_soln), hamming_weight(mis_soln) / opt[1], is_indset(mis_soln, G, little_endian=False)))"
   ]
  },
  {
   "cell_type": "code",
   "execution_count": 34,
   "id": "sunset-sewing",
   "metadata": {},
   "outputs": [
    {
     "data": {
      "image/png": "[encoded data removed]",
      "text/plain": [
       "<Figure size 432x288 with 1 Axes>"
      ]
     },
     "metadata": {},
     "output_type": "display_data"
    }
   ],
   "source": [
    "induced_G = ego_graph(G, 0, radius=1, center=True)\n",
    "nx.draw_spring(induced_G, with_labels=True, node_color='aquamarine')"
   ]
  },
  {
   "cell_type": "code",
   "execution_count": 30,
   "id": "desirable-attention",
   "metadata": {},
   "outputs": [
    {
     "name": "stdout",
     "output_type": "stream",
     "text": [
      "current init state: 00000000000000000000 \n",
      "\n",
      "k = 1 , hot nodes: [] , candidates: []\n",
      "induced graph nodes: [2, 5]\n",
      "Candidates after update: [2]\n",
      "Checking candidates:\n",
      "\t 2\n",
      "\tAdding!\n",
      "\n",
      "k = 2 , hot nodes: [2] , candidates: [5]\n",
      "induced graph nodes: [0, 2, 5, 12, 17, 19]\n",
      "Candidates after update: [5]\n",
      "Checking candidates:\n",
      "\t 5\n",
      "\tAdding!\n",
      "\n",
      "Current Hot Nodes: [2, 5]\n"
     ]
    }
   ],
   "source": [
    "init_node = 2\n",
    "num_partial_mixers = 5\n",
    "max_node_dist=2\n",
    "cur_init_state = '0'*len(G.nodes)\n",
    "\n",
    "# Select the nodes to hit with partial mixers\n",
    "hot_nodes = []\n",
    "k = 1\n",
    "candidates = []\n",
    "print('current init state:', cur_init_state, '\\n')\n",
    "while len(hot_nodes) < num_partial_mixers and k <= max_node_dist:\n",
    "    print('k =', k, ', hot nodes:', hot_nodes, ', candidates:', candidates)\n",
    "    # Get the graph induced by the init_node and all neighbors up to\n",
    "    # distance k edges away\n",
    "    induced_G = ego_graph(G, init_node, radius=k, center=True)\n",
    "    print('induced graph nodes:', list(induced_G.nodes))\n",
    "    \n",
    "    # Update the candidates list\n",
    "    for node in induced_G.nodes:\n",
    "        # All neighbors should be within the induced graph\n",
    "        if node not in hot_nodes and node not in candidates and induced_G.degree(node) == G.degree(node):\n",
    "            # None of the neighbors should be turned on\n",
    "            if not any([cur_init_state[n] == '1' for n in list(induced_G[node]) + [node]]):\n",
    "                candidates.append(node)\n",
    "    print('Candidates after update:', candidates)\n",
    "\n",
    "    # Check the nodes in the candidates list, if all of a node's neighbors are contained in the\n",
    "    # induced graph, then add it to the list of hot nodes\n",
    "    print('Checking candidates:')\n",
    "    for node in candidates:\n",
    "        print('\\t', node)\n",
    "        if induced_G.degree(node) == G.degree(node):\n",
    "            hot_nodes.append(node)\n",
    "            print('\\tAdding!')\n",
    "        else:\n",
    "            print('\\tSkipping...')\n",
    "        \n",
    "        if len(hot_nodes) >= num_partial_mixers:\n",
    "            print('\\tBreaking')\n",
    "            break\n",
    "            \n",
    "    # Clean up the candidates list\n",
    "    candidates = [node for node in candidates if node not in hot_nodes]\n",
    "    \n",
    "    # Update the candidates list with all nodes at the current k-level that weren't added in this round.\n",
    "    # This helps keep the hot nodes close to the initial node in terms of k-distance\n",
    "    for node in induced_G.nodes:\n",
    "        if node not in hot_nodes and node not in candidates:\n",
    "            if not any([cur_init_state[n] == '1' for n in list(G[node]) + [node]]):\n",
    "                candidates.append(node)\n",
    "\n",
    "    # increase the radius of the induced graph\n",
    "    k += 1\n",
    "    print()\n",
    "print('Current Hot Nodes:', hot_nodes)"
   ]
  },
  {
   "cell_type": "code",
   "execution_count": 18,
   "id": "warming-increase",
   "metadata": {},
   "outputs": [],
   "source": [
    "def gen_qlsa(circuit_G, init_state, hot_nodes, params, qubits_to_nodes, nodes_to_qubits,\n",
    "             barriers=1, decompose_level=1, verbose=0):\n",
    "\n",
    "    nq = len(circuit_G.nodes)\n",
    "\n",
    "    # Circuit construction\n",
    "    circ = qk.QuantumCircuit(nq, name='q')\n",
    "\n",
    "    # Add an ancilla qubit for implementing the mixer unitaries\n",
    "    anc_reg = qk.AncillaRegister(1, 'anc')\n",
    "    circ.add_register(anc_reg)\n",
    "\n",
    "    # Initialize any qubits that have already been flipped to |1>\n",
    "    # init_state lists the graph nodes in big endian order:\n",
    "    #    n_0, n_1, ..., n_N\n",
    "    for qubit in range(nq):\n",
    "        if init_state[qubits_to_nodes[qubit]] == '1':\n",
    "            circ.x(qubit)\n",
    "            \n",
    "    if barriers > 0:\n",
    "        circ.barrier()\n",
    "\n",
    "    # check the number of variational parameters\n",
    "    assert (len(params) == len(hot_nodes) + 1),\"Incorrect number of parameters!\"\n",
    "\n",
    "    # parse the given parameter list into alphas (for the mixers) and\n",
    "    # gamma (for the drivers)\n",
    "    alphas = params[:-1]\n",
    "    gamma = params[-1]\n",
    "\n",
    "    # Apply partial mixers to the hot nodes\n",
    "    for alpha, hot_node in zip(alphas, hot_nodes):\n",
    "        \n",
    "        qubit = nodes_to_qubits[hot_node]\n",
    "        neighbors = list(circuit_G.neighbors(hot_node))\n",
    "        qubit_neighbors = [nodes_to_qubits[n] for n in neighbors]\n",
    "\n",
    "        if verbose > 0:\n",
    "            print('node:', hot_node, 'neighbors:', neighbors, 'qubit:', qubit, 'qubit neighbors:', qubit_neighbors)\n",
    "\n",
    "        # The partial mixer unitary consists of a multi-controlled Toffoli gate, with open-controls on q's neighbors,\n",
    "        # a controlled X rotation on the hot qubit, and another multi-controlled Toffoli for uncompute\n",
    "        ctrl_qubits = [circ.qubits[i] for i in qubit_neighbors]\n",
    "        if decompose_level > 0:\n",
    "            # Qiskit has bugs when attempting to simulate custom controlled gates.\n",
    "            # Instead, wrap a regular multi-controlled toffoli with X-gates targetting the ancilla qubit.\n",
    "            for ctrl in ctrl_qubits:\n",
    "                circ.x(ctrl)\n",
    "            circ.mcx(ctrl_qubits, circ.ancillas[0])\n",
    "            for ctrl in ctrl_qubits:\n",
    "                circ.x(ctrl)\n",
    "                \n",
    "            # The new AerSimulator is unable to simulate crx gates, so use a CU gate instead\n",
    "            circ.cu3(2*alpha, -np.pi/2, np.pi/2, circ.ancillas[0], circ.qubits[qubit])\n",
    "        \n",
    "            # Uncompute the parity\n",
    "            for ctrl in ctrl_qubits:\n",
    "                circ.x(ctrl)\n",
    "            circ.mcx(ctrl_qubits, circ.ancillas[0])\n",
    "            for ctrl in ctrl_qubits:\n",
    "                circ.x(ctrl)\n",
    "        else:\n",
    "            # Define a custom multi-controlled Toffoli\n",
    "            mc_toffoli = ControlledGate('mc_toffoli', len(neighbors)+1, [], num_ctrl_qubits=len(neighbors),\n",
    "                                        ctrl_state='0'*len(neighbors), base_gate=XGate())\n",
    "            \n",
    "            # Compute parity\n",
    "            circ.append(mc_toffoli, ctrl_qubits + [circ.ancillas[0]])\n",
    "            # Controlled Rotation\n",
    "            circ.crx(2*alpha, circ.ancillas[0], circ.qubits[qubit])\n",
    "            # Uncompute parity\n",
    "            circ.append(mc_toffoli, ctrl_qubits + [circ.ancillas[0]])\n",
    "\n",
    "\n",
    "        if barriers > 1:\n",
    "            circ.barrier()\n",
    "\n",
    "    if barriers == 1:\n",
    "        circ.barrier()\n",
    "    \n",
    "    # Apply the phase separator unitary\n",
    "    circ.rz(2*gamma, circ.qubits)\n",
    "\n",
    "    if barriers >= 1:\n",
    "        circ.barrier()\n",
    "\n",
    "    if decompose_level > 1:\n",
    "        basis_gates = ['rz', 'x', 'h', 'sx', 'cu3', 'mcx', 'cx', 't', 'tdg']\n",
    "        pass_ = Unroller(basis_gates)\n",
    "        pm = PassManager(pass_)\n",
    "        circ = pm.run(circ)\n",
    "\n",
    "    return circ"
   ]
  },
  {
   "cell_type": "code",
   "execution_count": 19,
   "id": "medical-mathematics",
   "metadata": {},
   "outputs": [
    {
     "name": "stdout",
     "output_type": "stream",
     "text": [
      "Hot nodes: [0, 16, 5, 7, 2]\n",
      "Num qubits: 12\n",
      "Nodes: [0, 2, 5, 6, 7, 11, 12, 13, 14, 16, 17, 19]\n",
      "qubits_to_nodes: {0: 0, 1: 2, 2: 5, 3: 6, 4: 7, 5: 11, 6: 12, 7: 13, 8: 14, 9: 16, 10: 17, 11: 19}\n",
      "nodes_to_qubits: {0: 0, 2: 1, 5: 2, 6: 3, 7: 4, 11: 5, 12: 6, 13: 7, 14: 8, 16: 9, 17: 10, 19: 11}\n",
      "node: 0 neighbors: [5, 7, 16] qubit: 0 qubit neighbors: [2, 4, 9]\n",
      "node: 16 neighbors: [0, 6, 11, 12, 14] qubit: 9 qubit neighbors: [0, 3, 5, 6, 8]\n",
      "node: 5 neighbors: [0, 2, 12, 17, 19] qubit: 2 qubit neighbors: [0, 1, 6, 10, 11]\n",
      "node: 7 neighbors: [0, 6, 13, 17] qubit: 4 qubit neighbors: [0, 3, 7, 10]\n",
      "node: 2 neighbors: [5] qubit: 1 qubit neighbors: [2]\n",
      "\n",
      "        ░                ┌────────────────┐                ░ ┌───┐           ┌───┐       ┌───┐     ┌───┐ ░ ┌───┐     ┌───┐      ┌───┐                 ┌───┐ ░ »\n",
      "  q_0: ─░────────────────┤ U3(2,-π/2,π/2) ├────────────────░─┤ X ├──■────────┤ X ├───────┤ X ├──■──┤ X ├─░─┤ X ├──■──┤ X ├──────┤ X ├──────────────■──┤ X ├─░─»\n",
      "        ░                └───────┬────────┘                ░ └───┘  │        └───┘       └───┘  │  └───┘ ░ ├───┤  │  ├───┤      ├───┤              │  ├───┤ ░ »\n",
      "  q_1: ─░────────────────────────┼─────────────────────────░────────┼───────────────────────────┼────────░─┤ X ├──■──┤ X ├──────┤ X ├──────────────■──┤ X ├─░─»\n",
      "        ░ ┌───┐     ┌───┐        │         ┌───┐     ┌───┐ ░        │                           │        ░ └───┘  │  └───┘┌─────┴───┴──────┐       │  └───┘ ░ »\n",
      "  q_2: ─░─┤ X ├──■──┤ X ├────────┼─────────┤ X ├──■──┤ X ├─░────────┼───────────────────────────┼────────░────────┼───────┤ U3(6,-π/2,π/2) ├───────┼────────░─»\n",
      "        ░ └───┘  │  └───┘        │         └───┘  │  └───┘ ░ ┌───┐  │        ┌───┐       ┌───┐  │  ┌───┐ ░        │       └───────┬────────┘       │        ░ »\n",
      "  q_3: ─░────────┼───────────────┼────────────────┼────────░─┤ X ├──■────────┤ X ├───────┤ X ├──■──┤ X ├─░────────┼───────────────┼────────────────┼────────░─»\n",
      "        ░ ┌───┐  │  ┌───┐        │         ┌───┐  │  ┌───┐ ░ └───┘  │        └───┘       └───┘  │  └───┘ ░        │               │                │        ░ »\n",
      "  q_4: ─░─┤ X ├──■──┤ X ├────────┼─────────┤ X ├──■──┤ X ├─░────────┼───────────────────────────┼────────░────────┼───────────────┼────────────────┼────────░─»\n",
      "        ░ └───┘  │  └───┘        │         └───┘  │  └───┘ ░ ┌───┐  │        ┌───┐       ┌───┐  │  ┌───┐ ░        │               │                │        ░ »\n",
      "  q_5: ─░────────┼───────────────┼────────────────┼────────░─┤ X ├──■────────┤ X ├───────┤ X ├──■──┤ X ├─░────────┼───────────────┼────────────────┼────────░─»\n",
      "        ░        │               │                │        ░ ├───┤  │        ├───┤       ├───┤  │  ├───┤ ░ ┌───┐  │  ┌───┐        │         ┌───┐  │  ┌───┐ ░ »\n",
      "  q_6: ─░────────┼───────────────┼────────────────┼────────░─┤ X ├──■────────┤ X ├───────┤ X ├──■──┤ X ├─░─┤ X ├──■──┤ X ├────────┼─────────┤ X ├──■──┤ X ├─░─»\n",
      "        ░        │               │                │        ░ └───┘  │        └───┘       └───┘  │  └───┘ ░ └───┘  │  └───┘        │         └───┘  │  └───┘ ░ »\n",
      "  q_7: ─░────────┼───────────────┼────────────────┼────────░────────┼───────────────────────────┼────────░────────┼───────────────┼────────────────┼────────░─»\n",
      "        ░        │               │                │        ░ ┌───┐  │        ┌───┐       ┌───┐  │  ┌───┐ ░        │               │                │        ░ »\n",
      "  q_8: ─░────────┼───────────────┼────────────────┼────────░─┤ X ├──■────────┤ X ├───────┤ X ├──■──┤ X ├─░────────┼───────────────┼────────────────┼────────░─»\n",
      "        ░ ┌───┐  │  ┌───┐        │         ┌───┐  │  ┌───┐ ░ └───┘  │  ┌─────┴───┴──────┐└───┘  │  └───┘ ░        │               │                │        ░ »\n",
      "  q_9: ─░─┤ X ├──■──┤ X ├────────┼─────────┤ X ├──■──┤ X ├─░────────┼──┤ U3(4,-π/2,π/2) ├───────┼────────░────────┼───────────────┼────────────────┼────────░─»\n",
      "        ░ └───┘  │  └───┘        │         └───┘  │  └───┘ ░        │  └───────┬────────┘       │        ░ ┌───┐  │  ┌───┐        │         ┌───┐  │  ┌───┐ ░ »\n",
      " q_10: ─░────────┼───────────────┼────────────────┼────────░────────┼──────────┼────────────────┼────────░─┤ X ├──■──┤ X ├────────┼─────────┤ X ├──■──┤ X ├─░─»\n",
      "        ░        │               │                │        ░        │          │                │        ░ ├───┤  │  ├───┤        │         ├───┤  │  ├───┤ ░ »\n",
      " q_11: ─░────────┼───────────────┼────────────────┼────────░────────┼──────────┼────────────────┼────────░─┤ X ├──■──┤ X ├────────┼─────────┤ X ├──■──┤ X ├─░─»\n",
      "        ░      ┌─┴─┐             │              ┌─┴─┐      ░      ┌─┴─┐        │              ┌─┴─┐      ░ └───┘┌─┴─┐└───┘        │         └───┘┌─┴─┐└───┘ ░ »\n",
      "anc_0: ─░──────┤ X ├─────────────■──────────────┤ X ├──────░──────┤ X ├────────■──────────────┤ X ├──────░──────┤ X ├─────────────■──────────────┤ X ├──────░─»\n",
      "        ░      └───┘                            └───┘      ░      └───┘                       └───┘      ░      └───┘                            └───┘      ░ »\n",
      "«       ┌───┐     ┌───┐      ┌───┐                 ┌───┐ ░                                                   ░ ┌────────┐ ░ \n",
      "«  q_0: ┤ X ├──■──┤ X ├──────┤ X ├──────────────■──┤ X ├─░───────────────────────────────────────────────────░─┤ RZ(12) ├─░─\n",
      "«       └───┘  │  └───┘      └───┘              │  └───┘ ░                ┌─────────────────┐                ░ ├────────┤ ░ \n",
      "«  q_1: ───────┼────────────────────────────────┼────────░────────────────┤ U3(10,-π/2,π/2) ├────────────────░─┤ RZ(12) ├─░─\n",
      "«              │                                │        ░ ┌───┐     ┌───┐└────────┬────────┘┌───┐     ┌───┐ ░ ├────────┤ ░ \n",
      "«  q_2: ───────┼────────────────────────────────┼────────░─┤ X ├──■──┤ X ├─────────┼─────────┤ X ├──■──┤ X ├─░─┤ RZ(12) ├─░─\n",
      "«       ┌───┐  │  ┌───┐      ┌───┐              │  ┌───┐ ░ └───┘  │  └───┘         │         └───┘  │  └───┘ ░ ├────────┤ ░ \n",
      "«  q_3: ┤ X ├──■──┤ X ├──────┤ X ├──────────────■──┤ X ├─░────────┼────────────────┼────────────────┼────────░─┤ RZ(12) ├─░─\n",
      "«       └───┘  │  └───┘┌─────┴───┴──────┐       │  └───┘ ░        │                │                │        ░ ├────────┤ ░ \n",
      "«  q_4: ───────┼───────┤ U3(8,-π/2,π/2) ├───────┼────────░────────┼────────────────┼────────────────┼────────░─┤ RZ(12) ├─░─\n",
      "«              │       └───────┬────────┘       │        ░        │                │                │        ░ ├────────┤ ░ \n",
      "«  q_5: ───────┼───────────────┼────────────────┼────────░────────┼────────────────┼────────────────┼────────░─┤ RZ(12) ├─░─\n",
      "«              │               │                │        ░        │                │                │        ░ ├────────┤ ░ \n",
      "«  q_6: ───────┼───────────────┼────────────────┼────────░────────┼────────────────┼────────────────┼────────░─┤ RZ(12) ├─░─\n",
      "«       ┌───┐  │  ┌───┐        │         ┌───┐  │  ┌───┐ ░        │                │                │        ░ ├────────┤ ░ \n",
      "«  q_7: ┤ X ├──■──┤ X ├────────┼─────────┤ X ├──■──┤ X ├─░────────┼────────────────┼────────────────┼────────░─┤ RZ(12) ├─░─\n",
      "«       └───┘  │  └───┘        │         └───┘  │  └───┘ ░        │                │                │        ░ ├────────┤ ░ \n",
      "«  q_8: ───────┼───────────────┼────────────────┼────────░────────┼────────────────┼────────────────┼────────░─┤ RZ(12) ├─░─\n",
      "«              │               │                │        ░        │                │                │        ░ ├────────┤ ░ \n",
      "«  q_9: ───────┼───────────────┼────────────────┼────────░────────┼────────────────┼────────────────┼────────░─┤ RZ(12) ├─░─\n",
      "«       ┌───┐  │  ┌───┐        │         ┌───┐  │  ┌───┐ ░        │                │                │        ░ ├────────┤ ░ \n",
      "« q_10: ┤ X ├──■──┤ X ├────────┼─────────┤ X ├──■──┤ X ├─░────────┼────────────────┼────────────────┼────────░─┤ RZ(12) ├─░─\n",
      "«       └───┘  │  └───┘        │         └───┘  │  └───┘ ░        │                │                │        ░ ├────────┤ ░ \n",
      "« q_11: ───────┼───────────────┼────────────────┼────────░────────┼────────────────┼────────────────┼────────░─┤ RZ(12) ├─░─\n",
      "«            ┌─┴─┐             │              ┌─┴─┐      ░      ┌─┴─┐              │              ┌─┴─┐      ░ ├────────┤ ░ \n",
      "«anc_0: ─────┤ X ├─────────────■──────────────┤ X ├──────░──────┤ X ├──────────────■──────────────┤ X ├──────░─┤ RZ(12) ├─░─\n",
      "«            └───┘                            └───┘      ░      └───┘                             └───┘      ░ └────────┘ ░ \n"
     ]
    },
    {
     "name": "stderr",
     "output_type": "stream",
     "text": [
      "/Users/teague/qEnv/lib/python3.7/site-packages/ipykernel_launcher.py:54: DeprecationWarning: The QuantumCircuit.cu3 method is deprecated as of 0.16.0. It will be removed no earlier than 3 months after the release date. You should use the QuantumCircuit.cu method instead, where cu3(ϴ,φ,λ) = cu(ϴ,φ,λ,0).\n"
     ]
    }
   ],
   "source": [
    "print('Hot nodes:', hot_nodes)\n",
    "\n",
    "# The last induced Graph is the one we need to construct the circuit\n",
    "num_qubits = len(induced_G.nodes)\n",
    "print('Num qubits:', num_qubits)\n",
    "\n",
    "# Make a map between qubits and nodes\n",
    "nodes = list(induced_G.nodes)\n",
    "print('Nodes:', nodes)\n",
    "qubits_to_nodes = {q : nodes[q] for q in range(num_qubits)}\n",
    "nodes_to_qubits = {qubits_to_nodes[q] : q for q in qubits_to_nodes.keys()}\n",
    "print('qubits_to_nodes:', qubits_to_nodes)\n",
    "print('nodes_to_qubits:', nodes_to_qubits)\n",
    "\n",
    "params = np.arange(1,len(hot_nodes) + 2)\n",
    "ansatz = gen_qlsa(induced_G, cur_init_state, hot_nodes, params, qubits_to_nodes, nodes_to_qubits,\n",
    "                  barriers=2, decompose_level=1, verbose=1)\n",
    "print()\n",
    "print(ansatz.draw(fold=160))"
   ]
  },
  {
   "cell_type": "code",
   "execution_count": 20,
   "id": "diagnostic-usage",
   "metadata": {},
   "outputs": [
    {
     "data": {
      "text/plain": [
       "<qiskit.circuit.instructionset.InstructionSet at 0x7fd966eac810>"
      ]
     },
     "execution_count": 20,
     "metadata": {},
     "output_type": "execute_result"
    }
   ],
   "source": [
    "ansatz.save_statevector()"
   ]
  },
  {
   "cell_type": "code",
   "execution_count": 21,
   "id": "material-mississippi",
   "metadata": {},
   "outputs": [
    {
     "name": "stdout",
     "output_type": "stream",
     "text": [
      "{'000000000000': 0.0017, '000000000001': 0.05697, '000000000010': 0.01947, '000000000011': 0.6511, '000000000100': 0.00043, '000000010000': 0.00228, '000000010010': 0.0261, '000000010100': 0.00058, '001000000000': 0.00813, '001000000010': 0.09294, '001000000100': 0.00205, '001000010000': 0.0109, '001000010010': 0.12459, '001000010100': 0.00275}\n"
     ]
    }
   ],
   "source": [
    "simulator = qk.Aer.get_backend('aer_simulator_statevector')\n",
    "result = simulator.run(ansatz).result()\n",
    "sv = qk.quantum_info.Statevector(result.get_statevector(ansatz))\n",
    "probs = strip_ancillas(sv.probabilities_dict(decimals=5), ansatz)\n",
    "print(probs)"
   ]
  },
  {
   "cell_type": "code",
   "execution_count": 22,
   "id": "cross-consent",
   "metadata": {},
   "outputs": [
    {
     "name": "stdout",
     "output_type": "stream",
     "text": [
      "2.0366400000000002\n"
     ]
    }
   ],
   "source": [
    "avg_cost = 0\n",
    "for sample in probs.keys():\n",
    "    x = [int(bit) for bit in list(sample)]\n",
    "    avg_cost += probs[sample] * sum(x)\n",
    "print(avg_cost)"
   ]
  },
  {
   "cell_type": "code",
   "execution_count": 23,
   "id": "latest-holder",
   "metadata": {},
   "outputs": [],
   "source": [
    "def f(params):\n",
    "    circ = gen_qlsa(induced_G, cur_init_state, hot_nodes, params, qubits_to_nodes, nodes_to_qubits,\n",
    "                    barriers=0, decompose_level=1, verbose=0)\n",
    "    \n",
    "    circ.save_statevector()\n",
    "    \n",
    "    result = simulator.run(circ).result()\n",
    "    sv = qk.quantum_info.Statevector(result.get_statevector(circ))\n",
    "    probs = strip_ancillas(sv.probabilities_dict(decimals=5), circ)\n",
    "    \n",
    "    avg_cost = 0\n",
    "    for sample, val in probs.items():\n",
    "        x = [int(bit) for bit in list(sample)]\n",
    "        avg_cost += val * sum(x)\n",
    "        \n",
    "    return -avg_cost"
   ]
  },
  {
   "cell_type": "code",
   "execution_count": 24,
   "id": "explicit-equilibrium",
   "metadata": {},
   "outputs": [
    {
     "name": "stdout",
     "output_type": "stream",
     "text": [
      "     fun: -2.99966\n",
      "   maxcv: 0.0\n",
      " message: 'Optimization terminated successfully.'\n",
      "    nfev: 91\n",
      "  status: 1\n",
      " success: True\n",
      "       x: array([6.28419751, 1.56644555, 4.84288798, 4.71515063, 1.70622204,\n",
      "       3.02446954])\n"
     ]
    }
   ],
   "source": [
    "out = scipy.optimize.minimize(f, x0=np.random.uniform(low=0.0, high=2*np.pi, size=len(hot_nodes)+1), method='COBYLA')\n",
    "print(out)"
   ]
  },
  {
   "cell_type": "code",
   "execution_count": 25,
   "id": "specified-russell",
   "metadata": {},
   "outputs": [
    {
     "name": "stdout",
     "output_type": "stream",
     "text": [
      "Optimal Cost: -2.99966\n",
      "[('001000010100', 0.98304), ('001000010010', 0.01662), ('001000010000', 0.00031), ('000000010100', 2e-05), ('001000000100', 1e-05)]\n",
      "Most probable bitstring: 001000010100\n"
     ]
    }
   ],
   "source": [
    "opt_params = out['x']\n",
    "opt_cost = out['fun']\n",
    "print('Optimal Cost:', opt_cost)\n",
    "\n",
    "opt_circ = gen_qlsa(induced_G, cur_init_state, hot_nodes, opt_params, qubits_to_nodes, nodes_to_qubits,\n",
    "                    barriers=0, decompose_level=1, verbose=0)\n",
    "opt_circ.save_statevector()\n",
    "result = simulator.run(opt_circ).result()\n",
    "sv = qk.quantum_info.Statevector(result.get_statevector(opt_circ))\n",
    "probs = strip_ancillas(sv.probabilities_dict(decimals=5), opt_circ)\n",
    "\n",
    "sorted_probs = sorted([(key, val) for key, val in probs.items()], key=lambda tup: tup[1], reverse=True)\n",
    "print(sorted_probs)\n",
    "most_likely_str = sorted_probs[0][0]\n",
    "print('Most probable bitstring:', most_likely_str)"
   ]
  },
  {
   "cell_type": "code",
   "execution_count": 26,
   "id": "latest-hammer",
   "metadata": {},
   "outputs": [
    {
     "name": "stdout",
     "output_type": "stream",
     "text": [
      "Previous cur_init_state: 00000000000000000000\n",
      "Updated cur_init_state: 00000101000000001000\n"
     ]
    }
   ],
   "source": [
    "# update the current initial state with the result of the local search\n",
    "print('Previous cur_init_state:', cur_init_state)\n",
    "temp_state = list(cur_init_state)\n",
    "for qubit, bit in enumerate(reversed(most_likely_str)):\n",
    "    temp_state[qubits_to_nodes[qubit]] = bit\n",
    "cur_init_state = ''.join(temp_state)\n",
    "print('Updated cur_init_state:', cur_init_state)"
   ]
  },
  {
   "cell_type": "code",
   "execution_count": 27,
   "id": "apparent-amplifier",
   "metadata": {},
   "outputs": [
    {
     "name": "stdout",
     "output_type": "stream",
     "text": [
      "[0, 0, 0, 0, 0, 0, 0, 0, 0, 0, 0, 0, 0, 0, 0, 0, 0, 0, 0, 0]\n",
      "[1, 0, 1, 0, 0, 1, 1, 1, 0, 0, 0, 1, 1, 1, 1, 0, 1, 1, 0, 1]\n"
     ]
    }
   ],
   "source": [
    "stopping_condition = [0 for _ in range(len(G.nodes))]\n",
    "print(stopping_condition)\n",
    "\n",
    "# update the stopping condition by turning all bits to 1 if they OR a neighbor were switched on\n",
    "for node, bit in enumerate(cur_init_state):\n",
    "    if bit == '1':\n",
    "        for n in list(G[node]) + [node]:\n",
    "            stopping_condition[n] = 1\n",
    "print(stopping_condition)"
   ]
  },
  {
   "cell_type": "code",
   "execution_count": 28,
   "id": "furnished-place",
   "metadata": {},
   "outputs": [
    {
     "name": "stdout",
     "output_type": "stream",
     "text": [
      "8\n"
     ]
    }
   ],
   "source": [
    "# Select a new initial node\n",
    "init_node = np.random.choice([node for node, val in enumerate(stopping_condition) if val == 0])\n",
    "print(init_node)"
   ]
  },
  {
   "cell_type": "code",
   "execution_count": null,
   "id": "adopted-religious",
   "metadata": {},
   "outputs": [],
   "source": []
  }
 ],
 "metadata": {
  "kernelspec": {
   "display_name": "Python 3",
   "language": "python",
   "name": "python3"
  },
  "language_info": {
   "codemirror_mode": {
    "name": "ipython",
    "version": 3
   },
   "file_extension": ".py",
   "mimetype": "text/x-python",
   "name": "python",
   "nbconvert_exporter": "python",
   "pygments_lexer": "ipython3",
   "version": "3.7.9"
  }
 },
 "nbformat": 4,
 "nbformat_minor": 5
}
